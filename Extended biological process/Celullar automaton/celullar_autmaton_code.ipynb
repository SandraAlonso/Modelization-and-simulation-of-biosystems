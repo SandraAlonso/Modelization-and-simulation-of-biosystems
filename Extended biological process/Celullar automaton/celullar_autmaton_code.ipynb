{
  "nbformat": 4,
  "nbformat_minor": 0,
  "metadata": {
    "colab": {
      "name": "Exercises 4.1 and 4.2 code.ipynb",
      "provenance": [],
      "collapsed_sections": []
    },
    "kernelspec": {
      "name": "python3",
      "display_name": "Python 3"
    },
    "language_info": {
      "name": "python"
    }
  },
  "cells": [
    {
      "cell_type": "markdown",
      "source": [
        "# Exercise 4.1 -Study the dynamics of one of the following sets of rules for two arrays of 256 and 257 cells with periodic boundary conditions"
      ],
      "metadata": {
        "id": "_j5tzBn4z8d4"
      }
    },
    {
      "cell_type": "code",
      "source": [
        "from numpy import array\n",
        "\n",
        "class Rule(object):\n",
        "    __f = None\n",
        "    \n",
        "    def __init__(self, f=lambda x: x[1]):\n",
        "        if not isinstance(f, dict) and not callable(f):\n",
        "            raise(TypeError('Rule argument must be callable or dict instance'))\n",
        "        \n",
        "        self.__f = f\n",
        "    \n",
        "    def __call__(self, cell, *args, **kwargs):\n",
        "        if callable(self.__f):\n",
        "            return self.__f(cell, *args, **kwargs)\n",
        "        else:\n",
        "            return self.__f[cell]"
      ],
      "metadata": {
        "id": "cXR4fY1ADfS9"
      },
      "execution_count": 1,
      "outputs": []
    },
    {
      "cell_type": "code",
      "source": [
        "from numpy import array\n",
        "from numpy import where\n",
        "from numpy import zeros\n",
        "from numpy import ones\n",
        "from collections import Iterable\n",
        "\n",
        "\n",
        "class State(object):\n",
        "    FINITE='f'\n",
        "    PERIODIC='p'\n",
        "    \n",
        "    __grid = None\n",
        "    __stype = None\n",
        "    \n",
        "    def __init__(self, s, stype=PERIODIC):\n",
        "        if stype == self.PERIODIC or stype == self.FINITE:\n",
        "            self.__stype = stype\n",
        "        else:\n",
        "            raise(ValueError('Invalid value for ntype.'))\n",
        "            \n",
        "        if isinstance(s, int):\n",
        "            self.__grid = zeros(s)\n",
        "            \n",
        "        if isinstance(s, Iterable):\n",
        "            self.__grid = array(list(s))\n",
        "    \n",
        "    def __getitem__(self, key):\n",
        "        return self.__grid[key]\n",
        "\n",
        "    def __setitem__(self, key, value):\n",
        "        self.__grid[key] = value\n",
        "        \n",
        "    def __len__(self):\n",
        "        return len(self.__grid)\n",
        "        \n",
        "    def __str__(self):\n",
        "        return str(self.__grid)\n",
        "    \n",
        "    def __repr__(self):\n",
        "        return repr(self.__grid)\n",
        "\n",
        "    def __eq__(self, other):\n",
        "        return self.grid.__eq__(other)\n",
        "    \n",
        "    @property\n",
        "    def grid(self):\n",
        "        return self.__grid\n",
        "    \n",
        "    @property\n",
        "    def stype(self):\n",
        "        return self.__stype\n",
        "    \n",
        "    @property\n",
        "    def neighborhoods(self):        \n",
        "        begin = [self.grid[-1] if self.__stype == self.PERIODIC else 0]\n",
        "        end = [self.grid[0] if self.__stype == self.PERIODIC else 0]\n",
        "        fake_grid = tuple(begin + list(self.grid) + end)\n",
        "        \n",
        "        return list(fake_grid[i-1:i+2] for i in range(1, len(self.grid) + 1))"
      ],
      "metadata": {
        "id": "NIgHLXXGDkTA",
        "colab": {
          "base_uri": "https://localhost:8080/"
        },
        "outputId": "82fb671e-354b-4afc-abf9-cf41be2423a2"
      },
      "execution_count": 2,
      "outputs": [
        {
          "output_type": "stream",
          "name": "stderr",
          "text": [
            "/usr/local/lib/python3.7/dist-packages/ipykernel_launcher.py:5: DeprecationWarning: Using or importing the ABCs from 'collections' instead of from 'collections.abc' is deprecated since Python 3.3,and in 3.9 it will stop working\n",
            "  \"\"\"\n"
          ]
        }
      ]
    },
    {
      "cell_type": "code",
      "source": [
        "class CellularAutomaton(object):\n",
        "    \"\"\"\n",
        "    Cellular Atomaton class\n",
        "    \"\"\"\n",
        "    __seed = None\n",
        "    __history = None\n",
        "    __rule = None\n",
        "    __stype = None\n",
        "    \n",
        "    def __init__(self, seed=None, rule=None):\n",
        "        # Check for seed assignment\n",
        "        if isinstance(seed, State):\n",
        "            self.__stype = seed.stype\n",
        "            self.__seed = array(seed.grid, dtype=int)\n",
        "            self.__history = [array(self.__seed, dtype=int)]\n",
        "            \n",
        "        elif seed is None:\n",
        "            self.__seed = None\n",
        "            self.history = None\n",
        "        else:\n",
        "            raise(TypeError(\"Argument 'seed' must be a State instance\"))\n",
        "        \n",
        "        # Check for rule assignment\n",
        "        if isinstance(rule, Rule):\n",
        "            self.__rule = rule\n",
        "        elif rule is None:\n",
        "            self.__rule = None\n",
        "        else:\n",
        "            raise(TypeError(\"Argument 'rule' must be a Rule instance\"))\n",
        "    \n",
        "\n",
        "    def evolve(self, steps=1):\n",
        "        if steps < 1:\n",
        "            raise(ValueError(\"Evolution steps must be greater than 0\"))\n",
        "        \n",
        "        if self.__rule is None:\n",
        "            raise(ValueError(\"Evolution rule is not defined\"))\n",
        "        \n",
        "        if self.__seed is None:\n",
        "            raise(ValueError(\"Initial state doesn't exists\"))\n",
        "            \n",
        "        for i in range(len(self.history), steps):\n",
        "            \n",
        "            self.__history.append(\n",
        "                array(\n",
        "                    [self.rule(neighborhood) for neighborhood in State(self.history[-1], self.stype).neighborhoods]\n",
        "                )\n",
        "            )\n",
        "   \n",
        "    # Properties\n",
        "    @property\n",
        "    def rule(self):\n",
        "        return self.__rule\n",
        "    \n",
        "    @rule.setter\n",
        "    def rule(self, value):\n",
        "        if isinstance(value, Rule):\n",
        "            self.__rule = rule\n",
        "        else:\n",
        "            raise TypeError(\"Argument 'rule' must be a Rule instance\")\n",
        "    \n",
        "    @property\n",
        "    def seed(self):\n",
        "        return self._seed\n",
        "    \n",
        "    @seed.setter\n",
        "    def seed(self, value):\n",
        "        if isinstance(value, State):\n",
        "            self.__stype = value.stype\n",
        "            self.__seed = array(value.grid)\n",
        "            self.__history = [array(self.__seed)]\n",
        "        else:\n",
        "            raise TypeError(\"Argument 'rule' must be a State instance\")\n",
        "    \n",
        "    @property\n",
        "    def stype(self):\n",
        "        return self.__stype\n",
        "\n",
        "    @property\n",
        "    def history(self):\n",
        "        return array(self.__history)"
      ],
      "metadata": {
        "id": "G7BNovWhDpfK"
      },
      "execution_count": 3,
      "outputs": []
    },
    {
      "cell_type": "markdown",
      "source": [
        "## 1.\tA single black (1) cell in the middle of the array  "
      ],
      "metadata": {
        "id": "djI6Jo7N-HRU"
      }
    },
    {
      "cell_type": "code",
      "source": [
        "import matplotlib.pyplot as plt\n",
        "\n",
        "Rule4 = Rule({ #100\n",
        "    (0,0,0): 0, \n",
        "    (0,0,1): 0,\n",
        "    (0,1,0): 1,\n",
        "    (0,1,1): 0,\n",
        "    (1,0,0): 0,\n",
        "    (1,0,1): 0,\n",
        "    (1,1,0): 0,\n",
        "    (1,1,1): 0,\n",
        "})\n",
        "size = 257\n",
        "center = size//2\n",
        "\n",
        "seed = State(size)\n",
        "seed[size//2] = 1\n",
        "ca = CellularAutomaton(seed, Rule4);\n",
        "ca.evolve(size//2)\n",
        "\n",
        "fig = plt.figure(figsize=(15, 15), frameon=False)\n",
        "axs = fig.add_subplot('111')\n",
        "\n",
        "axs.imshow(ca.history, cmap='viridis', interpolation='nearest')\n",
        "axs.axis('off')\n",
        "plt.draw()\n",
        "plt.tight_layout()\n",
        "plt.show()"
      ],
      "metadata": {
        "colab": {
          "base_uri": "https://localhost:8080/",
          "height": 558
        },
        "id": "EHzrgTYP76gB",
        "outputId": "2f0fdc34-51be-4caa-cbde-0c279c41f465"
      },
      "execution_count": 4,
      "outputs": [
        {
          "output_type": "display_data",
          "data": {
            "image/png": "[encoded data removed]",
            "text/plain": [
              "<Figure size 1080x1080 with 1 Axes>"
            ]
          },
          "metadata": {
            "needs_background": "light"
          }
        }
      ]
    },
    {
      "cell_type": "code",
      "source": [
        "import matplotlib.pyplot as plt\n",
        "\n",
        "Rule90 = Rule({ #1011010\n",
        "    (0,0,0): 0, \n",
        "    (0,0,1): 1,\n",
        "    (0,1,0): 0,\n",
        "    (0,1,1): 1,\n",
        "    (1,0,0): 1,\n",
        "    (1,0,1): 0,\n",
        "    (1,1,0): 1,\n",
        "    (1,1,1): 0,\n",
        "})\n",
        "size = 257\n",
        "center = size//2\n",
        "\n",
        "seed = State(size)\n",
        "seed[size//2] = 1\n",
        "ca = CellularAutomaton(seed, Rule90);\n",
        "ca.evolve(size//2)\n",
        "\n",
        "fig = plt.figure(figsize=(15, 15), frameon=False)\n",
        "axs = fig.add_subplot('111')\n",
        "\n",
        "axs.imshow(ca.history, cmap='viridis', interpolation='nearest')\n",
        "axs.axis('off')\n",
        "plt.draw()\n",
        "plt.tight_layout()\n",
        "plt.show()"
      ],
      "metadata": {
        "colab": {
          "base_uri": "https://localhost:8080/",
          "height": 557
        },
        "id": "m_hZFSQp8mvm",
        "outputId": "28ac6eeb-2c5a-4408-dc82-ab4cfde1b056"
      },
      "execution_count": null,
      "outputs": [
        {
          "output_type": "display_data",
          "data": {
            "image/png": "[encoded data removed]",
            "text/plain": [
              "<Figure size 1080x1080 with 1 Axes>"
            ]
          },
          "metadata": {
            "needs_background": "light"
          }
        }
      ]
    },
    {
      "cell_type": "code",
      "source": [
        "import matplotlib.pyplot as plt\n",
        "\n",
        "Rule137 = Rule({ #10001001\n",
        "    (0,0,0): 1, \n",
        "    (0,0,1): 0,\n",
        "    (0,1,0): 0,\n",
        "    (0,1,1): 1,\n",
        "    (1,0,0): 0,\n",
        "    (1,0,1): 0,\n",
        "    (1,1,0): 0,\n",
        "    (1,1,1): 1,\n",
        "})\n",
        "size = 257\n",
        "center = size//2\n",
        "\n",
        "seed = State(size)\n",
        "seed[size//2] = 1\n",
        "ca = CellularAutomaton(seed, Rule137);\n",
        "ca.evolve(size//2)\n",
        "\n",
        "fig = plt.figure(figsize=(15, 15), frameon=False)\n",
        "axs = fig.add_subplot('111')\n",
        "\n",
        "axs.imshow(ca.history, cmap='viridis', interpolation='nearest')\n",
        "axs.axis('off')\n",
        "plt.draw()\n",
        "plt.tight_layout()\n",
        "plt.show()"
      ],
      "metadata": {
        "colab": {
          "base_uri": "https://localhost:8080/",
          "height": 557
        },
        "id": "tIacDw5e8v2p",
        "outputId": "0d1b93ee-3718-457d-fc4e-225261f6a215"
      },
      "execution_count": null,
      "outputs": [
        {
          "output_type": "display_data",
          "data": {
            "image/png": "[encoded data removed]",
            "text/plain": [
              "<Figure size 1080x1080 with 1 Axes>"
            ]
          },
          "metadata": {
            "needs_background": "light"
          }
        }
      ]
    },
    {
      "cell_type": "code",
      "execution_count": null,
      "metadata": {
        "colab": {
          "base_uri": "https://localhost:8080/"
        },
        "id": "wraNpCZntHnm",
        "outputId": "8d235321-cd9f-4376-9230-5c58fc2a9ee0"
      },
      "outputs": [
        {
          "output_type": "stream",
          "name": "stdout",
          "text": [
            "\n",
            "   Rules: (4, 90, 137)\n",
            " 0: ............@............    ............@............    ............@............\n",
            " 1: ............@............    ...........@.@...........    @@@@@@@@@@@...@@@@@@@@@@@\n",
            " 2: ............@............    ..........@...@..........    @@@@@@@@@@..@.@@@@@@@@@@.\n",
            " 3: ............@............    .........@.@.@.@.........    @@@@@@@@@.....@@@@@@@@@..\n",
            " 4: ............@............    ........@.......@........    @@@@@@@@..@@@.@@@@@@@@..@\n",
            " 5: ............@............    .......@.@.....@.@.......    @@@@@@@...@@..@@@@@@@....\n",
            " 6: ............@............    ......@...@...@...@......    @@@@@@..@.@...@@@@@@..@@@\n",
            " 7: ............@............    .....@.@.@.@.@.@.@.@.....    @@@@@.......@.@@@@@...@@.\n",
            " 8: ............@............    ....@...............@....    @@@@..@@@@@...@@@@..@.@..\n",
            " 9: ............@............    ...@.@.............@.@...    @@@...@@@@..@.@@@.......@\n",
            "10: ............@............    ..@...@...........@...@..    @@..@.@@@.....@@..@@@@@..\n",
            "11: ............@............    .@.@.@.@.........@.@.@.@.    @.....@@..@@@.@...@@@@..@\n",
            "12: ............@............    @.......@.......@.......@    ..@@@.@...@@....@.@@@....\n",
            "13: ............@............    .@.....@.@.....@.@.....@.    @.@@....@.@..@@...@@..@@@\n",
            "14: ............@............    @.@...@...@...@...@...@.@    ..@..@@......@..@.@...@@.\n",
            "15: ............@............    ...@.@.@.@.@.@.@.@.@.@...    @....@..@@@@........@.@..\n",
            "16: ............@............    ..@...................@..    ..@@....@@@..@@@@@@.....@\n",
            "17: ............@............    .@.@.................@.@.    @.@..@@.@@...@@@@@..@@@..\n",
            "18: ............@............    @...@...............@...@    .....@..@..@.@@@@...@@..@\n",
            "19: ............@............    .@.@.@.............@.@.@.    @@@@.........@@@..@.@....\n",
            "20: ............@............    @.....@...........@.....@    @@@..@@@@@@@.@@.......@@@\n",
            "21: ............@............    .@...@.@.........@.@...@.    @@...@@@@@@..@..@@@@@.@@.\n",
            "22: ............@............    @.@.@...@.......@...@.@.@    @..@.@@@@@......@@@@..@..\n",
            "23: ............@............    .....@.@.@.....@.@.@.....    .....@@@@..@@@@.@@@.....@\n",
            "24: ............@............    ....@.....@...@.....@....    @@@@.@@@...@@@..@@..@@@..\n",
            "25: ............@............    ...@.@...@.@.@.@...@.@...    @@@..@@..@.@@...@...@@..@\n",
            "26: ............@............    ..@...@.@.......@.@...@..    @@...@.....@..@...@.@....\n",
            "27: ............@............    .@.@.@...@.....@...@.@.@.    @..@...@@@......@.....@@@\n",
            "28: ............@............    @.....@.@.@...@.@.@.....@    .....@.@@..@@@@...@@@.@@.\n",
            "29: ............@............    .@...@.....@.@.....@...@.    @@@@...@...@@@..@.@@..@..\n",
            "30: ............@............    @.@.@.@...@...@...@.@.@.@    @@@..@...@.@@.....@.....@\n",
            "31: ............@............    .......@.@.@.@.@.@.......    @@.....@...@..@@@...@@@..\n",
            "32: ............@............    ......@...........@......    @..@@@...@....@@..@.@@..@\n",
            "33: ............@............    .....@.@.........@.@.....    ...@@..@...@@.@.....@....\n",
            "34: ............@............    ....@...@.......@...@....    @@.@.....@.@....@@@...@@@\n",
            "35: ............@............    ...@.@.@.@.....@.@.@.@...    @....@@@.....@@.@@..@.@@.\n",
            "36: ............@............    ..@.......@...@.......@..    ..@@.@@..@@@.@..@.....@..\n",
            "37: ............@............    .@.@.....@.@.@.@.....@.@.    @.@..@...@@.......@@@...@\n",
            "38: ............@............    @...@...@.......@...@...@    .......@.@..@@@@@.@@..@..\n",
            "39: ............@............    .@.@.@.@.@.....@.@.@.@.@.    @@@@@@......@@@@..@.....@\n",
            "40: ............@............    @.........@...@.........@    @@@@@..@@@@.@@@.....@@@..\n",
            "41: ............@............    .@.......@.@.@.@.......@.    @@@@...@@@..@@..@@@.@@..@\n",
            "42: ............@............    @.@.....@.......@.....@.@    @@@..@.@@...@...@@..@....\n",
            "43: ............@............    ...@...@.@.....@.@...@...    @@.....@..@...@.@.....@@@\n",
            "44: ............@............    ..@.@.@...@...@...@.@.@..    @..@@@......@.....@@@.@@.\n",
            "45: ............@............    .@.....@.@.@.@.@.@.....@.    ...@@..@@@@...@@@.@@..@..\n",
            "46: ............@............    @.@...@...........@...@.@    @@.@...@@@..@.@@..@.....@\n",
            "47: ............@............    ...@.@.@.........@.@.@...    @....@.@@.....@.....@@@..\n",
            "48: ............@............    ..@.....@.......@.....@..    ..@@...@..@@@...@@@.@@..@\n",
            "49: ............@............    .@.@...@.@.....@.@...@.@.    @.@..@....@@..@.@@..@....\n",
            "50: ............@............    @...@.@...@...@...@.@...@    .......@@.@.....@.....@@@\n",
            "51: ............@............    .@.@...@.@.@.@.@.@...@.@.    @@@@@@.@....@@@...@@@.@@.\n",
            "52: ............@............    @...@.@...........@.@...@    @@@@@....@@.@@..@.@@..@..\n",
            "53: ............@............    .@.@...@.........@...@.@.    @@@@..@@.@..@.....@.....@\n",
            "54: ............@............    @...@.@.@.......@.@.@...@    @@@...@.......@@@...@@@..\n",
            "55: ............@............    .@.@.....@.....@.....@.@.    @@..@...@@@@@.@@..@.@@..@\n",
            "56: ............@............    @...@...@.@...@.@...@...@    @.....@.@@@@..@.....@....\n",
            "57: ............@............    .@.@.@.@...@.@...@.@.@.@.    ..@@@...@@@.....@@@...@@@\n",
            "58: ............@............    @.......@.@...@.@.......@    @.@@..@.@@..@@@.@@..@.@@.\n",
            "59: ............@............    .@.....@...@.@...@.....@.    ..@.....@...@@..@.....@..\n",
            "60: ............@............    @.@...@.@.@...@.@.@...@.@    @...@@@...@.@.....@@@...@\n",
            "61: ............@............    ...@.@.....@.@.....@.@...    ..@.@@..@.....@@@.@@..@..\n",
            "62: ............@............    ..@...@...@...@...@...@..    @...@.....@@@.@@..@.....@\n",
            "63: ............@............    .@.@.@.@.@.@.@.@.@.@.@.@.    ..@...@@@.@@..@.....@@@..\n",
            "64: ............@............    @.......................@    @...@.@@..@.....@@@.@@..@\n",
            "65: ............@............    .@.....................@.    ..@...@.....@@@.@@..@....\n",
            "66: ............@............    @.@...................@.@    @...@...@@@.@@..@.....@@@\n",
            "67: ............@............    ...@.................@...    ..@...@.@@..@.....@@@.@@.\n",
            "68: ............@............    ..@.@...............@.@..    @...@...@.....@@@.@@..@..\n",
            "69: ............@............    .@...@.............@...@.    ..@...@...@@@.@@..@.....@\n",
            "70: ............@............    @.@.@.@...........@.@.@.@    @...@...@.@@..@.....@@@..\n",
            "71: ............@............    .......@.........@.......    ..@...@...@.....@@@.@@..@\n",
            "72: ............@............    ......@.@.......@.@......    @...@...@...@@@.@@..@....\n",
            "73: ............@............    .....@...@.....@...@.....    ..@...@...@.@@..@.....@@@\n",
            "74: ............@............    ....@.@.@.@...@.@.@.@....    @...@...@...@.....@@@.@@.\n",
            "75: ............@............    ...@.......@.@.......@...    ..@...@...@...@@@.@@..@..\n",
            "76: ............@............    ..@.@.....@...@.....@.@..    @...@...@...@.@@..@.....@\n",
            "77: ............@............    .@...@...@.@.@.@...@...@.    ..@...@...@...@.....@@@..\n",
            "78: ............@............    @.@.@.@.@.......@.@.@.@.@    @...@...@...@...@@@.@@..@\n",
            "79: ............@............    .........@.....@.........    ..@...@...@...@.@@..@....\n",
            "80: ............@............    ........@.@...@.@........    @...@...@...@...@.....@@@\n",
            "81: ............@............    .......@...@.@...@.......    ..@...@...@...@...@@@.@@.\n",
            "82: ............@............    ......@.@.@...@.@.@......    @...@...@...@...@.@@..@..\n",
            "83: ............@............    .....@.....@.@.....@.....    ..@...@...@...@...@.....@\n",
            "84: ............@............    ....@.@...@...@...@.@....    @...@...@...@...@...@@@..\n",
            "85: ............@............    ...@...@.@.@.@.@.@...@...    ..@...@...@...@...@.@@..@\n",
            "86: ............@............    ..@.@.@...........@.@.@..    @...@...@...@...@...@....\n",
            "87: ............@............    .@.....@.........@.....@.    ..@...@...@...@...@...@@@\n",
            "88: ............@............    @.@...@.@.......@.@...@.@    @...@...@...@...@...@.@@.\n",
            "89: ............@............    ...@.@...@.....@...@.@...    ..@...@...@...@...@...@..\n",
            "90: ............@............    ..@...@.@.@...@.@.@...@..    @...@...@...@...@...@...@\n",
            "91: ............@............    .@.@.@.....@.@.....@.@.@.    ..@...@...@...@...@...@..\n",
            "92: ............@............    @.....@...@...@...@.....@    @...@...@...@...@...@...@\n",
            "93: ............@............    .@...@.@.@.@.@.@.@.@...@.    ..@...@...@...@...@...@..\n",
            "94: ............@............    @.@.@...............@.@.@    @...@...@...@...@...@...@\n",
            "95: ............@............    .....@.............@.....    ..@...@...@...@...@...@..\n",
            "96: ............@............    ....@.@...........@.@....    @...@...@...@...@...@...@\n",
            "97: ............@............    ...@...@.........@...@...    ..@...@...@...@...@...@..\n",
            "98: ............@............    ..@.@.@.@.......@.@.@.@..    @...@...@...@...@...@...@\n",
            "99: ............@............    .@.......@.....@.......@.    ..@...@...@...@...@...@..\n"
          ]
        }
      ],
      "source": [
        "def eca(cells, rule):\n",
        "    lencells = len(cells)\n",
        "    c = \"0\" + cells + \"0\"    # Zero pad the ends\n",
        "    rulebits = '{0:08b}'.format(rule)\n",
        "    neighbours2next = {'{0:03b}'.format(n):rulebits[::-1][n] for n in range(8)}\n",
        "    yield c[1:-1]\n",
        "    while True:\n",
        "        c = ''.join(['0',\n",
        "                     ''.join(neighbours2next[c[i-1:i+2]]\n",
        "                             for i in range(1,lencells+1)),\n",
        "                     '0'])\n",
        "        yield c[1:-1]\n",
        " \n",
        "if __name__ == '__main__':\n",
        "    lines, start, rules = 100, '0000000000001000000000000', (4, 90, 137)\n",
        "    zipped = [range(lines)] + [eca(start, rule) for rule in rules]\n",
        "    print('\\n   Rules: %r' % (rules,))\n",
        "    for data in zip(*zipped):\n",
        "        i = data[0]\n",
        "        cells = data[1:]\n",
        "        print('%2i: %s' % (i, '    '.join(cells).replace('0', '.').replace('1', '@')))"
      ]
    },
    {
      "cell_type": "markdown",
      "source": [
        "## 2.\tHalf black (1) cells and half white (0) cells at randomly chosen positions"
      ],
      "metadata": {
        "id": "RXDaD1Vn-MG-"
      }
    },
    {
      "cell_type": "code",
      "source": [
        "import matplotlib.pyplot as plt\n",
        "import random\n",
        "Rule4 = Rule({ #100\n",
        "    (0,0,0): 0, \n",
        "    (0,0,1): 0,\n",
        "    (0,1,0): 1,\n",
        "    (0,1,1): 0,\n",
        "    (1,0,0): 0,\n",
        "    (1,0,1): 0,\n",
        "    (1,1,0): 0,\n",
        "    (1,1,1): 0,\n",
        "})\n",
        "size = 256\n",
        "center = size//2\n",
        "\n",
        "\n",
        "seed = State(size)\n",
        "for i in range(1, 128):\n",
        "  r = random.randint(1, 256)\n",
        "  seed[r] = 1\n",
        "print(seed)\n",
        "ca = CellularAutomaton(seed, Rule4);\n",
        "ca.evolve(size//2)\n",
        "\n",
        "fig = plt.figure(figsize=(15, 15), frameon=False)\n",
        "axs = fig.add_subplot('111')\n",
        "\n",
        "axs.imshow(ca.history, cmap='viridis', interpolation='nearest')\n",
        "axs.axis('off')\n",
        "plt.draw()\n",
        "plt.tight_layout()\n",
        "plt.show()"
      ],
      "metadata": {
        "colab": {
          "base_uri": "https://localhost:8080/",
          "height": 750
        },
        "id": "2rSlPcCP-afX",
        "outputId": "d288613d-0a1e-41b1-c4b3-f2446921ccd9"
      },
      "execution_count": 6,
      "outputs": [
        {
          "output_type": "stream",
          "name": "stdout",
          "text": [
            "[0. 0. 1. 0. 0. 1. 1. 1. 0. 0. 1. 1. 0. 1. 0. 0. 0. 0. 1. 0. 1. 0. 1. 0.\n",
            " 0. 0. 0. 1. 0. 1. 0. 0. 0. 0. 1. 1. 0. 1. 1. 0. 1. 0. 0. 1. 1. 1. 1. 1.\n",
            " 0. 0. 0. 1. 0. 1. 0. 1. 0. 0. 0. 0. 1. 1. 0. 0. 0. 0. 0. 0. 1. 0. 0. 0.\n",
            " 1. 0. 1. 0. 1. 1. 0. 1. 0. 0. 0. 1. 1. 1. 0. 1. 1. 0. 0. 0. 1. 1. 1. 0.\n",
            " 1. 0. 1. 0. 0. 1. 0. 1. 1. 0. 1. 0. 0. 0. 1. 0. 0. 1. 0. 0. 1. 0. 0. 0.\n",
            " 1. 0. 1. 1. 1. 0. 1. 0. 0. 0. 0. 0. 1. 1. 1. 0. 0. 0. 0. 1. 0. 0. 0. 0.\n",
            " 0. 1. 0. 1. 1. 0. 0. 0. 0. 0. 1. 1. 1. 1. 1. 0. 0. 1. 0. 1. 1. 1. 1. 0.\n",
            " 1. 1. 1. 0. 1. 1. 1. 0. 0. 0. 1. 0. 0. 1. 0. 0. 0. 0. 0. 0. 0. 0. 1. 1.\n",
            " 1. 0. 1. 0. 1. 0. 0. 0. 0. 1. 0. 0. 0. 0. 0. 1. 1. 0. 0. 0. 1. 0. 0. 0.\n",
            " 0. 0. 0. 0. 1. 1. 1. 0. 1. 0. 0. 0. 0. 0. 0. 0. 0. 0. 0. 0. 0. 1. 0. 0.\n",
            " 1. 1. 0. 0. 0. 0. 1. 0. 0. 1. 0. 0. 0. 0. 0. 0.]\n"
          ]
        },
        {
          "output_type": "display_data",
          "data": {
            "image/png": "[encoded data removed]",
            "text/plain": [
              "<Figure size 1080x1080 with 1 Axes>"
            ]
          },
          "metadata": {
            "needs_background": "light"
          }
        }
      ]
    },
    {
      "cell_type": "code",
      "source": [
        "import matplotlib.pyplot as plt\n",
        "import random\n",
        "Rule90 = Rule({ #1011010\n",
        "    (0,0,0): 0, \n",
        "    (0,0,1): 1,\n",
        "    (0,1,0): 0,\n",
        "    (0,1,1): 1,\n",
        "    (1,0,0): 1,\n",
        "    (1,0,1): 0,\n",
        "    (1,1,0): 1,\n",
        "    (1,1,1): 0,\n",
        "})\n",
        "size = 256\n",
        "center = size//2\n",
        "\n",
        "\n",
        "seed = State(size)\n",
        "for i in range(1, 128):\n",
        "  r = random.randint(1, 256)\n",
        "  seed[r] = 1\n",
        "print(seed)\n",
        "ca = CellularAutomaton(seed, Rule90);\n",
        "ca.evolve(size//2)\n",
        "\n",
        "fig = plt.figure(figsize=(15, 15), frameon=False)\n",
        "axs = fig.add_subplot('111')\n",
        "\n",
        "axs.imshow(ca.history, cmap='viridis', interpolation='nearest')\n",
        "axs.axis('off')\n",
        "plt.draw()\n",
        "plt.tight_layout()\n",
        "plt.show()"
      ],
      "metadata": {
        "colab": {
          "base_uri": "https://localhost:8080/",
          "height": 750
        },
        "id": "B_5bF8RB_ZXe",
        "outputId": "e0270b52-84eb-41f9-d4e5-7f4c85db49b2"
      },
      "execution_count": null,
      "outputs": [
        {
          "output_type": "stream",
          "name": "stdout",
          "text": [
            "[0. 0. 1. 0. 0. 0. 0. 0. 0. 0. 0. 0. 1. 1. 0. 0. 1. 0. 0. 0. 1. 1. 0. 0.\n",
            " 1. 0. 1. 1. 0. 1. 1. 1. 0. 0. 1. 0. 0. 0. 1. 0. 1. 0. 0. 1. 0. 1. 1. 1.\n",
            " 1. 0. 0. 1. 1. 0. 1. 0. 0. 1. 0. 0. 1. 1. 0. 0. 1. 1. 0. 1. 0. 0. 0. 0.\n",
            " 0. 0. 1. 0. 0. 1. 1. 0. 0. 1. 0. 0. 1. 1. 0. 0. 1. 0. 1. 0. 0. 0. 0. 0.\n",
            " 1. 1. 0. 1. 1. 0. 1. 0. 1. 0. 0. 1. 0. 1. 1. 0. 0. 1. 0. 1. 1. 1. 0. 0.\n",
            " 0. 0. 1. 0. 0. 0. 1. 0. 1. 0. 0. 0. 0. 0. 1. 0. 0. 1. 1. 0. 1. 0. 0. 1.\n",
            " 0. 0. 0. 0. 1. 0. 0. 0. 0. 0. 0. 1. 0. 0. 1. 1. 1. 1. 1. 1. 0. 1. 0. 1.\n",
            " 0. 0. 1. 0. 1. 0. 0. 0. 1. 0. 0. 1. 0. 0. 0. 1. 0. 1. 1. 0. 0. 1. 1. 0.\n",
            " 0. 0. 0. 0. 0. 0. 0. 0. 0. 0. 0. 0. 1. 0. 0. 0. 1. 1. 0. 1. 1. 0. 1. 1.\n",
            " 0. 1. 1. 0. 0. 0. 1. 0. 1. 0. 0. 0. 1. 0. 1. 1. 0. 1. 1. 0. 1. 0. 0. 1.\n",
            " 0. 0. 1. 1. 1. 1. 0. 0. 0. 1. 0. 1. 1. 1. 1. 0.]\n"
          ]
        },
        {
          "output_type": "display_data",
          "data": {
            "image/png": "[encoded data removed]",
            "text/plain": [
              "<Figure size 1080x1080 with 1 Axes>"
            ]
          },
          "metadata": {
            "needs_background": "light"
          }
        }
      ]
    },
    {
      "cell_type": "code",
      "source": [
        "import matplotlib.pyplot as plt\n",
        "import random\n",
        "Rule137 = Rule({ #10001001\n",
        "    (0,0,0): 1, \n",
        "    (0,0,1): 0,\n",
        "    (0,1,0): 0,\n",
        "    (0,1,1): 1,\n",
        "    (1,0,0): 0,\n",
        "    (1,0,1): 0,\n",
        "    (1,1,0): 0,\n",
        "    (1,1,1): 1,\n",
        "})\n",
        "size = 256\n",
        "center = size//2\n",
        "\n",
        "\n",
        "seed = State(size)\n",
        "for i in range(1, 128):\n",
        "  r = random.randint(1, 256)\n",
        "  seed[r] = 1\n",
        "print(seed)\n",
        "ca = CellularAutomaton(seed, Rule137);\n",
        "ca.evolve(size//2)\n",
        "\n",
        "fig = plt.figure(figsize=(15, 15), frameon=False)\n",
        "axs = fig.add_subplot('111')\n",
        "\n",
        "axs.imshow(ca.history, cmap='viridis', interpolation='nearest')\n",
        "axs.axis('off')\n",
        "plt.draw()\n",
        "plt.tight_layout()\n",
        "plt.show()"
      ],
      "metadata": {
        "colab": {
          "base_uri": "https://localhost:8080/",
          "height": 750
        },
        "id": "t5lNG2K4_ipg",
        "outputId": "058d0a3f-e8c8-43b1-f947-281cfaa04455"
      },
      "execution_count": null,
      "outputs": [
        {
          "output_type": "stream",
          "name": "stdout",
          "text": [
            "[0. 1. 0. 0. 1. 1. 1. 1. 1. 0. 1. 0. 1. 0. 1. 0. 1. 1. 0. 1. 0. 0. 1. 0.\n",
            " 1. 0. 1. 0. 0. 0. 0. 0. 0. 1. 0. 1. 0. 0. 1. 1. 0. 1. 0. 1. 0. 0. 0. 0.\n",
            " 0. 0. 0. 0. 1. 0. 0. 0. 0. 0. 0. 0. 1. 0. 1. 0. 1. 0. 1. 0. 0. 1. 0. 0.\n",
            " 0. 1. 0. 0. 0. 0. 1. 1. 1. 1. 1. 1. 0. 1. 1. 1. 0. 0. 0. 0. 1. 0. 0. 0.\n",
            " 0. 0. 1. 1. 0. 1. 0. 0. 0. 0. 0. 0. 1. 0. 0. 1. 0. 1. 0. 0. 1. 1. 1. 0.\n",
            " 1. 0. 0. 1. 0. 0. 1. 0. 0. 1. 0. 1. 0. 1. 1. 1. 0. 0. 0. 0. 0. 0. 0. 0.\n",
            " 0. 1. 1. 0. 0. 0. 1. 1. 1. 1. 0. 0. 1. 0. 0. 1. 0. 1. 0. 1. 0. 1. 0. 1.\n",
            " 1. 0. 0. 1. 0. 1. 1. 1. 1. 0. 0. 1. 1. 0. 1. 0. 1. 0. 0. 1. 0. 0. 1. 0.\n",
            " 0. 0. 1. 1. 0. 1. 0. 1. 1. 1. 0. 0. 0. 0. 1. 0. 1. 0. 1. 1. 1. 1. 0. 1.\n",
            " 1. 0. 0. 1. 1. 0. 1. 0. 1. 0. 1. 0. 0. 1. 1. 0. 0. 1. 1. 0. 0. 0. 0. 0.\n",
            " 1. 1. 0. 0. 0. 1. 0. 0. 0. 0. 1. 0. 0. 0. 1. 0.]\n"
          ]
        },
        {
          "output_type": "display_data",
          "data": {
            "image/png": "[encoded data removed]",
            "text/plain": [
              "<Figure size 1080x1080 with 1 Axes>"
            ]
          },
          "metadata": {
            "needs_background": "light"
          }
        }
      ]
    },
    {
      "cell_type": "code",
      "source": [
        "def eca(cells, rule):\n",
        "    lencells = len(cells)\n",
        "    c = \"0\" + cells + \"0\"    # Zero pad the ends\n",
        "    rulebits = '{0:08b}'.format(rule)\n",
        "    neighbours2next = {'{0:03b}'.format(n):rulebits[::-1][n] for n in range(8)}\n",
        "    yield c[1:-1]\n",
        "    while True:\n",
        "        c = ''.join(['0',\n",
        "                     ''.join(neighbours2next[c[i-1:i+2]]\n",
        "                             for i in range(1,lencells+1)),\n",
        "                     '0'])\n",
        "        yield c[1:-1]\n",
        " \n",
        "if __name__ == '__main__':\n",
        "    lines, start, rules = 50, '11010011010010100100111010', (4, 90, 137)\n",
        "    zipped = [range(lines)] + [eca(start, rule) for rule in rules]\n",
        "    print('\\n   Rules: %r' % (rules,))\n",
        "    for data in zip(*zipped):\n",
        "        i = data[0]\n",
        "        cells = data[1:]\n",
        "        print('%2i: %s' % (i, '    '.join(cells).replace('0', '.').replace('1', '@')))"
      ],
      "metadata": {
        "colab": {
          "base_uri": "https://localhost:8080/"
        },
        "id": "sFPKiyTqvC4e",
        "outputId": "83e2cd38-6607-420f-df37-57dd776cb8dd"
      },
      "execution_count": null,
      "outputs": [
        {
          "output_type": "stream",
          "name": "stdout",
          "text": [
            "\n",
            "   Rules: (4, 90, 137)\n",
            " 0: @@.@..@@.@..@.@..@..@@@.@.    @@.@..@@.@..@.@..@..@@@.@.    @@.@..@@.@..@.@..@..@@@.@.\n",
            " 1: ...@.....@..@.@..@......@.    @@..@@@@..@@...@@.@@@.@..@    @.....@.............@@....\n",
            " 2: ...@.....@..@.@..@......@.    @@@@@..@@@@@@.@@@.@.@..@@.    ..@@@...@@@@@@@@@@@.@..@@@\n",
            " 3: ...@.....@..@.@..@......@.    @...@@@@....@.@.@....@@@@@    @.@@..@.@@@@@@@@@@.....@@.\n",
            " 4: ...@.....@..@.@..@......@.    .@.@@..@@..@.....@..@@...@    ..@.....@@@@@@@@@..@@@.@..\n",
            " 5: ...@.....@..@.@..@......@.    @..@@@@@@@@.@...@.@@@@@.@.    @...@@@.@@@@@@@@...@@....@\n",
            " 6: ...@.....@..@.@..@......@.    .@@@......@..@.@..@...@..@    ..@.@@..@@@@@@@..@.@..@@..\n",
            " 7: ...@.....@..@.@..@......@.    @@.@@....@.@@...@@.@.@.@@.    @...@...@@@@@@........@..@\n",
            " 8: ...@.....@..@.@..@......@.    @@.@@@..@..@@@.@@@.....@@@    ..@...@.@@@@@..@@@@@@.....\n",
            " 9: ...@.....@..@.@..@......@.    @@.@.@@@.@@@.@.@.@@...@@.@    @...@...@@@@...@@@@@..@@@@\n",
            "10: ...@.....@..@.@..@......@.    @@...@.@.@.@.....@@@.@@@..    ..@...@.@@@..@.@@@@...@@@.\n",
            "11: ...@.....@..@.@..@......@.    @@@.@.......@...@@.@.@.@@.    @...@...@@.....@@@..@.@@..\n",
            "12: ...@.....@..@.@..@......@.    @.@..@.....@.@.@@@.....@@@    ..@...@.@..@@@.@@.....@..@\n",
            "13: ...@.....@..@.@..@......@.    ...@@.@...@....@.@@...@@.@    @...@......@@..@..@@@.....\n",
            "14: ...@.....@..@.@..@......@.    ..@@@..@.@.@..@..@@@.@@@..    ..@...@@@@.@......@@..@@@@\n",
            "15: ...@.....@..@.@..@......@.    .@@.@@@.....@@.@@@.@.@.@@.    @...@.@@@....@@@@.@...@@@.\n",
            "16: ...@.....@..@.@..@......@.    @@@.@.@@...@@@.@.@.....@@@    ..@...@@..@@.@@@....@.@@..\n",
            "17: ...@.....@..@.@..@......@.    @.@...@@@.@@.@....@...@@.@    @...@.@...@..@@..@@...@..@\n",
            "18: ...@.....@..@.@..@......@.    ...@.@@.@.@@..@..@.@.@@@..    ..@.....@....@...@..@.....\n",
            "19: ...@.....@..@.@..@......@.    ..@..@@...@@@@.@@....@.@@.    @...@@@...@@...@......@@@@\n",
            "20: ...@.....@..@.@..@......@.    .@.@@@@@.@@..@.@@@..@..@@@    ..@.@@..@.@..@...@@@@.@@@.\n",
            "21: ...@.....@..@.@..@......@.    @..@...@.@@@@..@.@@@.@@@.@    @...@..........@.@@@..@@..\n",
            "22: ...@.....@..@.@..@......@.    .@@.@.@..@..@@@..@.@.@.@..    ..@...@@@@@@@@...@@...@..@\n",
            "23: ...@.....@..@.@..@......@.    @@@....@@.@@@.@@@.......@.    @...@.@@@@@@@..@.@..@.....\n",
            "24: ...@.....@..@.@..@......@.    @.@@..@@@.@.@.@.@@.....@.@    ..@...@@@@@@..........@@@@\n",
            "25: ...@.....@..@.@..@......@.    ..@@@@@.@.......@@@...@...    @...@.@@@@@..@@@@@@@@.@@@.\n",
            "26: ...@.....@..@.@..@......@.    .@@...@..@.....@@.@@.@.@..    ..@...@@@@...@@@@@@@..@@..\n",
            "27: ...@.....@..@.@..@......@.    @@@@.@.@@.@...@@@.@@....@.    @...@.@@@..@.@@@@@@...@..@\n",
            "28: ...@.....@..@.@..@......@.    @..@...@@..@.@@.@.@@@..@.@    ..@...@@.....@@@@@..@.....\n",
            "29: ...@.....@..@.@..@......@.    .@@.@.@@@@@..@@...@.@@@...    @...@.@..@@@.@@@@.....@@@@\n",
            "30: ...@.....@..@.@..@......@.    @@@...@...@@@@@@.@..@.@@..    ..@......@@..@@@..@@@.@@@.\n",
            "31: ...@.....@..@.@..@......@.    @.@@.@.@.@@....@..@@..@@@.    @...@@@@.@...@@...@@..@@..\n",
            "32: ...@.....@..@.@..@......@.    ..@@.....@@@..@.@@@@@@@.@@    ..@.@@@....@.@..@.@...@..@\n",
            "33: ...@.....@..@.@..@......@.    .@@@@...@@.@@@..@.....@.@@    @...@@..@@..........@.....\n",
            "34: ...@.....@..@.@..@......@.    @@..@@.@@@.@.@@@.@...@..@@    ..@.@...@..@@@@@@@@...@@@@\n",
            "35: ...@.....@..@.@..@......@.    @@@@@@.@.@...@.@..@.@.@@@@    @.....@....@@@@@@@..@.@@@.\n",
            "36: ...@.....@..@.@..@......@.    @....@....@.@...@@....@..@    ..@@@...@@.@@@@@@.....@@..\n",
            "37: ...@.....@..@.@..@......@.    .@..@.@..@...@.@@@@..@.@@.    @.@@..@.@..@@@@@..@@@.@..@\n",
            "38: ...@.....@..@.@..@......@.    @.@@...@@.@.@..@..@@@..@@@    ..@........@@@@...@@......\n",
            "39: ...@.....@..@.@..@......@.    ..@@@.@@@....@@.@@@.@@@@.@    @...@@@@@@.@@@..@.@..@@@@@\n",
            "40: ...@.....@..@.@..@......@.    .@@.@.@.@@..@@@.@.@.@..@..    ..@.@@@@@..@@........@@@@.\n",
            "41: ...@.....@..@.@..@......@.    @@@.....@@@@@.@......@@.@.    @...@@@@...@..@@@@@@.@@@..\n",
            "42: ...@.....@..@.@..@......@.    @.@@...@@...@..@....@@@..@    ..@.@@@..@....@@@@@..@@..@\n",
            "43: ...@.....@..@.@..@......@.    ..@@@.@@@@.@.@@.@..@@.@@@.    @...@@.....@@.@@@@...@....\n",
            "44: ...@.....@..@.@..@......@.    .@@.@.@..@...@@..@@@@.@.@@    ..@.@..@@@.@..@@@..@...@@@\n",
            "45: ...@.....@..@.@..@......@.    @@@....@@.@.@@@@@@..@...@@    @......@@.....@@.....@.@@.\n",
            "46: ...@.....@..@.@..@......@.    @.@@..@@@...@....@@@.@.@@@    ..@@@@.@..@@@.@..@@@...@..\n",
            "47: ...@.....@..@.@..@......@.    ..@@@@@.@@.@.@..@@.@...@.@    @.@@@.....@@.....@@..@...@\n",
            "48: ...@.....@..@.@..@......@.    .@@...@.@@....@@@@..@.@...    ..@@..@@@.@..@@@.@.....@..\n",
            "49: ...@.....@..@.@..@......@.    @@@@.@..@@@..@@..@@@...@..    @.@...@@.....@@....@@@...@\n"
          ]
        }
      ]
    },
    {
      "cell_type": "markdown",
      "source": [
        "## 3.\t25% of black (1) cells and 75% of white (0) cells (approximately)\n"
      ],
      "metadata": {
        "id": "rzpcUDfHApvh"
      }
    },
    {
      "cell_type": "code",
      "source": [
        "import matplotlib.pyplot as plt\n",
        "import random\n",
        "Rule4 = Rule({ #100\n",
        "    (0,0,0): 0, \n",
        "    (0,0,1): 0,\n",
        "    (0,1,0): 1,\n",
        "    (0,1,1): 0,\n",
        "    (1,0,0): 0,\n",
        "    (1,0,1): 0,\n",
        "    (1,1,0): 0,\n",
        "    (1,1,1): 0,\n",
        "})\n",
        "size = 256\n",
        "center = size//2\n",
        "\n",
        "\n",
        "seed = State(size)\n",
        "for i in range(1, 64):\n",
        "  r = random.randint(1, 256)\n",
        "  seed[r] = 1\n",
        "print(seed)\n",
        "ca = CellularAutomaton(seed, Rule4);\n",
        "ca.evolve(size//2)\n",
        "\n",
        "fig = plt.figure(figsize=(15, 15), frameon=False)\n",
        "axs = fig.add_subplot('111')\n",
        "\n",
        "axs.imshow(ca.history, cmap='viridis', interpolation='nearest')\n",
        "axs.axis('off')\n",
        "plt.draw()\n",
        "plt.tight_layout()\n",
        "plt.show()"
      ],
      "metadata": {
        "colab": {
          "base_uri": "https://localhost:8080/",
          "height": 750
        },
        "id": "SWkQl9gyAwMv",
        "outputId": "d401278d-e150-4a31-8e81-2bb38dda7929"
      },
      "execution_count": 7,
      "outputs": [
        {
          "output_type": "stream",
          "name": "stdout",
          "text": [
            "[0. 1. 0. 0. 1. 0. 1. 0. 0. 0. 1. 0. 1. 0. 1. 1. 0. 1. 0. 0. 0. 0. 1. 0.\n",
            " 0. 1. 0. 0. 0. 0. 0. 0. 0. 1. 0. 0. 0. 1. 0. 0. 0. 0. 1. 1. 0. 0. 0. 0.\n",
            " 0. 0. 0. 1. 1. 0. 0. 1. 0. 0. 0. 0. 0. 0. 0. 0. 0. 1. 1. 0. 1. 0. 0. 0.\n",
            " 0. 0. 0. 0. 0. 0. 1. 0. 0. 0. 0. 0. 0. 1. 0. 1. 0. 0. 0. 1. 0. 0. 0. 0.\n",
            " 1. 0. 0. 0. 0. 0. 0. 1. 0. 0. 0. 1. 0. 0. 0. 1. 0. 0. 0. 1. 0. 0. 0. 1.\n",
            " 0. 0. 0. 1. 0. 1. 0. 0. 0. 0. 0. 0. 1. 0. 0. 1. 0. 0. 1. 0. 0. 0. 0. 0.\n",
            " 0. 0. 0. 0. 1. 0. 0. 0. 0. 1. 0. 0. 0. 0. 1. 1. 0. 0. 1. 0. 0. 0. 0. 1.\n",
            " 0. 0. 0. 0. 1. 1. 0. 1. 1. 0. 1. 0. 0. 1. 0. 0. 0. 0. 0. 0. 0. 0. 0. 1.\n",
            " 1. 1. 0. 0. 0. 0. 0. 0. 0. 0. 0. 0. 0. 0. 1. 0. 0. 0. 0. 0. 0. 0. 0. 0.\n",
            " 0. 1. 1. 0. 1. 1. 0. 0. 1. 1. 0. 0. 0. 0. 0. 0. 0. 1. 0. 0. 1. 0. 0. 0.\n",
            " 0. 0. 1. 0. 0. 0. 0. 0. 0. 0. 1. 0. 0. 0. 1. 0.]\n"
          ]
        },
        {
          "output_type": "display_data",
          "data": {
            "image/png": "[encoded data removed]",
            "text/plain": [
              "<Figure size 1080x1080 with 1 Axes>"
            ]
          },
          "metadata": {
            "needs_background": "light"
          }
        }
      ]
    },
    {
      "cell_type": "code",
      "source": [
        "import matplotlib.pyplot as plt\n",
        "import random\n",
        "Rule90 = Rule({ #1011010\n",
        "    (0,0,0): 0, \n",
        "    (0,0,1): 1,\n",
        "    (0,1,0): 0,\n",
        "    (0,1,1): 1,\n",
        "    (1,0,0): 1,\n",
        "    (1,0,1): 0,\n",
        "    (1,1,0): 1,\n",
        "    (1,1,1): 0,\n",
        "})\n",
        "size = 256\n",
        "center = size//2\n",
        "\n",
        "\n",
        "seed = State(size)\n",
        "for i in range(1, 64):\n",
        "  r = random.randint(1, 256)\n",
        "  seed[r] = 1\n",
        "print(seed)\n",
        "ca = CellularAutomaton(seed, Rule90);\n",
        "ca.evolve(size//2)\n",
        "\n",
        "fig = plt.figure(figsize=(15, 15), frameon=False)\n",
        "axs = fig.add_subplot('111')\n",
        "\n",
        "axs.imshow(ca.history, cmap='viridis', interpolation='nearest')\n",
        "axs.axis('off')\n",
        "plt.draw()\n",
        "plt.tight_layout()\n",
        "plt.show()"
      ],
      "metadata": {
        "colab": {
          "base_uri": "https://localhost:8080/",
          "height": 750
        },
        "id": "ECrmijqzBAnY",
        "outputId": "b8764e98-b709-4105-80da-790f7dd014bd"
      },
      "execution_count": null,
      "outputs": [
        {
          "output_type": "stream",
          "name": "stdout",
          "text": [
            "[0. 1. 1. 1. 0. 0. 1. 1. 0. 0. 1. 0. 1. 0. 0. 0. 0. 0. 0. 0. 0. 0. 0. 0.\n",
            " 0. 0. 0. 0. 0. 0. 0. 1. 0. 0. 0. 0. 0. 0. 0. 0. 0. 0. 0. 0. 0. 0. 0. 0.\n",
            " 0. 0. 0. 0. 0. 0. 0. 0. 0. 0. 0. 0. 0. 0. 0. 0. 0. 0. 1. 0. 0. 0. 0. 0.\n",
            " 1. 0. 0. 0. 0. 0. 0. 1. 0. 0. 1. 0. 0. 0. 0. 0. 1. 0. 0. 0. 0. 0. 0. 1.\n",
            " 1. 1. 0. 0. 0. 1. 0. 0. 1. 0. 0. 1. 1. 0. 0. 0. 0. 0. 1. 0. 1. 0. 0. 0.\n",
            " 1. 0. 0. 0. 0. 0. 0. 0. 0. 0. 0. 1. 0. 0. 0. 0. 1. 0. 0. 1. 1. 0. 0. 0.\n",
            " 0. 0. 0. 1. 0. 0. 1. 0. 0. 1. 0. 1. 0. 0. 0. 0. 0. 1. 1. 1. 1. 0. 1. 1.\n",
            " 0. 0. 0. 1. 0. 0. 0. 0. 0. 0. 1. 1. 0. 0. 0. 0. 0. 0. 0. 0. 0. 0. 1. 0.\n",
            " 0. 1. 0. 0. 0. 0. 0. 0. 0. 0. 1. 0. 1. 1. 0. 1. 1. 0. 0. 1. 0. 0. 0. 1.\n",
            " 0. 0. 0. 1. 0. 0. 1. 1. 0. 1. 0. 0. 0. 0. 1. 0. 0. 0. 0. 1. 0. 0. 0. 0.\n",
            " 0. 0. 0. 1. 1. 0. 0. 0. 0. 0. 0. 0. 0. 1. 0. 0.]\n"
          ]
        },
        {
          "output_type": "display_data",
          "data": {
            "image/png": "[encoded data removed]",
            "text/plain": [
              "<Figure size 1080x1080 with 1 Axes>"
            ]
          },
          "metadata": {
            "needs_background": "light"
          }
        }
      ]
    },
    {
      "cell_type": "code",
      "source": [
        "import matplotlib.pyplot as plt\n",
        "import random\n",
        "Rule137 = Rule({ #10001001\n",
        "    (0,0,0): 1, \n",
        "    (0,0,1): 0,\n",
        "    (0,1,0): 0,\n",
        "    (0,1,1): 1,\n",
        "    (1,0,0): 0,\n",
        "    (1,0,1): 0,\n",
        "    (1,1,0): 0,\n",
        "    (1,1,1): 1,\n",
        "})\n",
        "size = 256\n",
        "center = size//2\n",
        "\n",
        "\n",
        "seed = State(size)\n",
        "for i in range(1, 64):\n",
        "  r = random.randint(1, 256)\n",
        "  seed[r] = 1\n",
        "print(seed)\n",
        "ca = CellularAutomaton(seed, Rule137);\n",
        "ca.evolve(size//2)\n",
        "\n",
        "fig = plt.figure(figsize=(15, 15), frameon=False)\n",
        "axs = fig.add_subplot('111')\n",
        "\n",
        "axs.imshow(ca.history, cmap='viridis', interpolation='nearest')\n",
        "axs.axis('off')\n",
        "plt.draw()\n",
        "plt.tight_layout()\n",
        "plt.show()"
      ],
      "metadata": {
        "colab": {
          "base_uri": "https://localhost:8080/",
          "height": 750
        },
        "id": "V5AXMXbtBL-R",
        "outputId": "ea511340-bd34-4415-a4ed-7eba3f40698a"
      },
      "execution_count": null,
      "outputs": [
        {
          "output_type": "stream",
          "name": "stdout",
          "text": [
            "[0. 0. 0. 0. 0. 0. 0. 0. 0. 0. 0. 0. 0. 0. 0. 0. 0. 0. 0. 0. 1. 0. 0. 0.\n",
            " 0. 0. 0. 0. 1. 0. 0. 0. 0. 0. 0. 0. 1. 0. 0. 0. 0. 0. 1. 0. 0. 0. 0. 0.\n",
            " 1. 0. 0. 0. 0. 0. 0. 0. 1. 0. 0. 0. 0. 0. 0. 0. 0. 0. 0. 0. 0. 0. 0. 0.\n",
            " 0. 0. 0. 0. 1. 0. 0. 0. 0. 0. 0. 0. 0. 0. 0. 0. 0. 0. 1. 0. 1. 1. 0. 0.\n",
            " 0. 0. 1. 1. 0. 0. 1. 1. 0. 0. 1. 0. 0. 0. 1. 0. 0. 0. 0. 0. 1. 0. 0. 1.\n",
            " 0. 1. 0. 0. 1. 0. 0. 0. 1. 0. 1. 1. 0. 1. 0. 0. 0. 0. 0. 1. 1. 0. 0. 1.\n",
            " 0. 0. 0. 0. 0. 1. 0. 0. 0. 0. 0. 0. 1. 0. 0. 1. 0. 0. 1. 0. 1. 0. 1. 1.\n",
            " 0. 0. 0. 1. 0. 0. 0. 1. 0. 0. 0. 0. 0. 0. 0. 0. 0. 0. 0. 1. 1. 0. 0. 0.\n",
            " 0. 0. 0. 0. 0. 1. 0. 1. 0. 0. 0. 0. 0. 0. 1. 1. 0. 0. 0. 1. 0. 0. 0. 0.\n",
            " 0. 0. 0. 0. 0. 0. 0. 0. 0. 0. 0. 1. 0. 0. 0. 0. 0. 0. 0. 1. 0. 1. 0. 0.\n",
            " 0. 0. 0. 0. 0. 1. 1. 0. 1. 1. 0. 0. 0. 1. 0. 0.]\n"
          ]
        },
        {
          "output_type": "display_data",
          "data": {
            "image/png": "[encoded data removed]",
            "text/plain": [
              "<Figure size 1080x1080 with 1 Axes>"
            ]
          },
          "metadata": {
            "needs_background": "light"
          }
        }
      ]
    },
    {
      "cell_type": "code",
      "source": [
        "def eca(cells, rule):\n",
        "    lencells = len(cells)\n",
        "    c = \"0\" + cells + \"0\"    # Zero pad the ends\n",
        "    rulebits = '{0:08b}'.format(rule)\n",
        "    neighbours2next = {'{0:03b}'.format(n):rulebits[::-1][n] for n in range(8)}\n",
        "    yield c[1:-1]\n",
        "    while True:\n",
        "        c = ''.join(['0',\n",
        "                     ''.join(neighbours2next[c[i-1:i+2]]\n",
        "                             for i in range(1,lencells+1)),\n",
        "                     '0'])\n",
        "        yield c[1:-1]\n",
        " \n",
        "if __name__ == '__main__':\n",
        "    lines, start, rules = 50, '10100100010001', (4, 90, 137)\n",
        "    zipped = [range(lines)] + [eca(start, rule) for rule in rules]\n",
        "    print('\\n   Rules: %r' % (rules,))\n",
        "    for data in zip(*zipped):\n",
        "        i = data[0]\n",
        "        cells = data[1:]\n",
        "        print('%2i: %s' % (i, '    '.join(cells).replace('0', '.').replace('1', '@')))"
      ],
      "metadata": {
        "colab": {
          "base_uri": "https://localhost:8080/"
        },
        "id": "uL8sUv7dvRsy",
        "outputId": "438c9ec7-a3df-4c59-a404-bf352c2ffc34"
      },
      "execution_count": null,
      "outputs": [
        {
          "output_type": "stream",
          "name": "stdout",
          "text": [
            "\n",
            "   Rules: (4, 90, 137)\n",
            " 0: @.@..@...@...@    @.@..@...@...@    @.@..@...@...@\n",
            " 1: @.@..@...@...@    ...@@.@.@.@.@.    .......@...@..\n",
            " 2: @.@..@...@...@    ..@@@........@    @@@@@@...@...@\n",
            " 3: @.@..@...@...@    .@@.@@......@.    @@@@@..@...@..\n",
            " 4: @.@..@...@...@    @@@.@@@....@.@    @@@@.....@...@\n",
            " 5: @.@..@...@...@    @.@.@.@@..@...    @@@..@@@...@..\n",
            " 6: @.@..@...@...@    ......@@@@.@..    @@...@@..@...@\n",
            " 7: @.@..@...@...@    .....@@..@..@.    @..@.@.....@..\n",
            " 8: @.@..@...@...@    ....@@@@@.@@.@    .......@@@...@\n",
            " 9: @.@..@...@...@    ...@@...@.@@..    @@@@@@.@@..@..\n",
            "10: @.@..@...@...@    ..@@@@.@..@@@.    @@@@@..@.....@\n",
            "11: @.@..@...@...@    .@@..@..@@@.@@    @@@@.....@@@..\n",
            "12: @.@..@...@...@    @@@@@.@@@.@.@@    @@@..@@@.@@..@\n",
            "13: @.@..@...@...@    @...@.@.@...@@    @@...@@..@....\n",
            "14: @.@..@...@...@    .@.@.....@.@@@    @..@.@.....@@@\n",
            "15: @.@..@...@...@    @...@...@..@.@    .......@@@.@@.\n",
            "16: @.@..@...@...@    .@.@.@.@.@@...    @@@@@@.@@..@..\n",
            "17: @.@..@...@...@    @........@@@..    @@@@@..@.....@\n",
            "18: @.@..@...@...@    .@......@@.@@.    @@@@.....@@@..\n",
            "19: @.@..@...@...@    @.@....@@@.@@@    @@@..@@@.@@..@\n",
            "20: @.@..@...@...@    ...@..@@.@.@.@    @@...@@..@....\n",
            "21: @.@..@...@...@    ..@.@@@@......    @..@.@.....@@@\n",
            "22: @.@..@...@...@    .@..@..@@.....    .......@@@.@@.\n",
            "23: @.@..@...@...@    @.@@.@@@@@....    @@@@@@.@@..@..\n",
            "24: @.@..@...@...@    ..@@.@...@@...    @@@@@..@.....@\n",
            "25: @.@..@...@...@    .@@@..@.@@@@..    @@@@.....@@@..\n",
            "26: @.@..@...@...@    @@.@@@..@..@@.    @@@..@@@.@@..@\n",
            "27: @.@..@...@...@    @@.@.@@@.@@@@@    @@...@@..@....\n",
            "28: @.@..@...@...@    @@...@.@.@...@    @..@.@.....@@@\n",
            "29: @.@..@...@...@    @@@.@.....@.@.    .......@@@.@@.\n",
            "30: @.@..@...@...@    @.@..@...@...@    @@@@@@.@@..@..\n",
            "31: @.@..@...@...@    ...@@.@.@.@.@.    @@@@@..@.....@\n",
            "32: @.@..@...@...@    ..@@@........@    @@@@.....@@@..\n",
            "33: @.@..@...@...@    .@@.@@......@.    @@@..@@@.@@..@\n",
            "34: @.@..@...@...@    @@@.@@@....@.@    @@...@@..@....\n",
            "35: @.@..@...@...@    @.@.@.@@..@...    @..@.@.....@@@\n",
            "36: @.@..@...@...@    ......@@@@.@..    .......@@@.@@.\n",
            "37: @.@..@...@...@    .....@@..@..@.    @@@@@@.@@..@..\n",
            "38: @.@..@...@...@    ....@@@@@.@@.@    @@@@@..@.....@\n",
            "39: @.@..@...@...@    ...@@...@.@@..    @@@@.....@@@..\n",
            "40: @.@..@...@...@    ..@@@@.@..@@@.    @@@..@@@.@@..@\n",
            "41: @.@..@...@...@    .@@..@..@@@.@@    @@...@@..@....\n",
            "42: @.@..@...@...@    @@@@@.@@@.@.@@    @..@.@.....@@@\n",
            "43: @.@..@...@...@    @...@.@.@...@@    .......@@@.@@.\n",
            "44: @.@..@...@...@    .@.@.....@.@@@    @@@@@@.@@..@..\n",
            "45: @.@..@...@...@    @...@...@..@.@    @@@@@..@.....@\n",
            "46: @.@..@...@...@    .@.@.@.@.@@...    @@@@.....@@@..\n",
            "47: @.@..@...@...@    @........@@@..    @@@..@@@.@@..@\n",
            "48: @.@..@...@...@    .@......@@.@@.    @@...@@..@....\n",
            "49: @.@..@...@...@    @.@....@@@.@@@    @..@.@.....@@@\n"
          ]
        }
      ]
    },
    {
      "cell_type": "markdown",
      "source": [
        "## 4. 90% of black (1) cells and 10% of white (0) cells (approximately)"
      ],
      "metadata": {
        "id": "UMxvFQ1tB5Gn"
      }
    },
    {
      "cell_type": "code",
      "source": [
        "import matplotlib.pyplot as plt\n",
        "import random\n",
        "Rule4 = Rule({ #100\n",
        "    (0,0,0): 0, \n",
        "    (0,0,1): 0,\n",
        "    (0,1,0): 1,\n",
        "    (0,1,1): 0,\n",
        "    (1,0,0): 0,\n",
        "    (1,0,1): 0,\n",
        "    (1,1,0): 0,\n",
        "    (1,1,1): 0,\n",
        "})\n",
        "size = 256\n",
        "center = size//2\n",
        "\n",
        "\n",
        "seed = State(size)\n",
        "for i in range(1, 230):\n",
        "  r = random.randint(1, 255)\n",
        "  seed[r] = 1\n",
        "print(seed)\n",
        "ca = CellularAutomaton(seed, Rule4);\n",
        "ca.evolve(size//2)\n",
        "\n",
        "fig = plt.figure(figsize=(15, 15), frameon=False)\n",
        "axs = fig.add_subplot('111')\n",
        "\n",
        "axs.imshow(ca.history, cmap='viridis', interpolation='nearest')\n",
        "axs.axis('off')\n",
        "plt.draw()\n",
        "plt.tight_layout()\n",
        "plt.show()"
      ],
      "metadata": {
        "colab": {
          "base_uri": "https://localhost:8080/",
          "height": 750
        },
        "id": "tMvFkZjcCC7K",
        "outputId": "db3ba799-a17e-47ed-de09-b7be189a1113"
      },
      "execution_count": 8,
      "outputs": [
        {
          "output_type": "stream",
          "name": "stdout",
          "text": [
            "[0. 1. 1. 1. 0. 0. 0. 0. 1. 1. 1. 1. 1. 1. 1. 0. 1. 1. 1. 0. 1. 1. 1. 1.\n",
            " 1. 0. 0. 1. 1. 0. 0. 1. 1. 1. 1. 1. 1. 0. 0. 0. 1. 1. 1. 0. 1. 1. 0. 1.\n",
            " 1. 1. 0. 0. 1. 1. 1. 0. 0. 1. 1. 0. 1. 0. 1. 0. 0. 0. 0. 0. 0. 1. 1. 0.\n",
            " 1. 0. 1. 0. 0. 0. 0. 1. 1. 1. 1. 0. 1. 1. 0. 1. 1. 1. 1. 1. 1. 1. 1. 1.\n",
            " 1. 1. 1. 0. 1. 0. 0. 1. 1. 1. 1. 0. 1. 0. 0. 0. 0. 1. 0. 0. 0. 0. 1. 1.\n",
            " 1. 0. 1. 1. 0. 1. 1. 0. 1. 0. 1. 1. 1. 0. 1. 1. 1. 0. 1. 1. 1. 0. 0. 1.\n",
            " 0. 0. 1. 0. 1. 1. 1. 1. 1. 1. 0. 1. 1. 0. 1. 1. 1. 1. 1. 0. 0. 1. 0. 0.\n",
            " 1. 1. 1. 1. 1. 1. 1. 1. 1. 1. 1. 1. 0. 1. 1. 1. 0. 1. 1. 0. 0. 1. 1. 1.\n",
            " 1. 0. 1. 1. 1. 1. 0. 0. 0. 1. 0. 1. 0. 0. 0. 0. 0. 0. 1. 0. 1. 0. 1. 1.\n",
            " 1. 0. 1. 0. 0. 0. 0. 1. 0. 1. 1. 1. 0. 0. 1. 1. 1. 1. 1. 1. 0. 1. 1. 0.\n",
            " 1. 0. 1. 1. 1. 0. 1. 0. 0. 0. 0. 0. 1. 1. 1. 1.]\n"
          ]
        },
        {
          "output_type": "display_data",
          "data": {
            "image/png": "[encoded data removed]",
            "text/plain": [
              "<Figure size 1080x1080 with 1 Axes>"
            ]
          },
          "metadata": {
            "needs_background": "light"
          }
        }
      ]
    },
    {
      "cell_type": "code",
      "source": [
        "import matplotlib.pyplot as plt\n",
        "import random\n",
        "Rule90 = Rule({ #1011010\n",
        "    (0,0,0): 0, \n",
        "    (0,0,1): 1,\n",
        "    (0,1,0): 0,\n",
        "    (0,1,1): 1,\n",
        "    (1,0,0): 1,\n",
        "    (1,0,1): 0,\n",
        "    (1,1,0): 1,\n",
        "    (1,1,1): 0,\n",
        "})\n",
        "size = 256\n",
        "center = size//2\n",
        "\n",
        "\n",
        "seed = State(size)\n",
        "for i in range(1, 230):\n",
        "  r = random.randint(1, 255)\n",
        "  seed[r] = 1\n",
        "print(seed)\n",
        "ca = CellularAutomaton(seed, Rule90);\n",
        "ca.evolve(size//2)\n",
        "\n",
        "fig = plt.figure(figsize=(15, 15), frameon=False)\n",
        "axs = fig.add_subplot('111')\n",
        "\n",
        "axs.imshow(ca.history, cmap='viridis', interpolation='nearest')\n",
        "axs.axis('off')\n",
        "plt.draw()\n",
        "plt.tight_layout()\n",
        "plt.show()"
      ],
      "metadata": {
        "colab": {
          "base_uri": "https://localhost:8080/",
          "height": 750
        },
        "id": "8gBP9eE7CQOh",
        "outputId": "0aa2ae63-7b5d-4073-a89e-9aa6b00a0b0e"
      },
      "execution_count": null,
      "outputs": [
        {
          "output_type": "stream",
          "name": "stdout",
          "text": [
            "[0. 0. 0. 1. 1. 0. 1. 0. 0. 1. 0. 0. 0. 1. 0. 0. 0. 1. 1. 1. 1. 1. 1. 1.\n",
            " 1. 1. 1. 1. 1. 1. 1. 1. 1. 1. 0. 1. 0. 1. 1. 0. 0. 1. 0. 1. 0. 0. 1. 0.\n",
            " 1. 1. 1. 1. 1. 1. 1. 1. 0. 0. 1. 0. 0. 1. 0. 1. 1. 1. 1. 0. 1. 1. 1. 0.\n",
            " 0. 1. 1. 1. 1. 0. 0. 1. 0. 0. 1. 0. 1. 1. 0. 1. 0. 1. 1. 1. 1. 1. 1. 1.\n",
            " 1. 0. 1. 1. 1. 1. 0. 0. 0. 1. 1. 1. 0. 1. 0. 1. 1. 0. 1. 1. 1. 1. 1. 0.\n",
            " 1. 0. 0. 1. 0. 0. 1. 1. 0. 0. 1. 1. 0. 1. 1. 1. 0. 0. 1. 0. 1. 0. 1. 0.\n",
            " 1. 1. 0. 0. 0. 1. 1. 1. 1. 1. 1. 1. 1. 1. 0. 0. 1. 1. 1. 1. 1. 0. 0. 1.\n",
            " 0. 0. 0. 0. 0. 0. 1. 0. 1. 0. 0. 0. 1. 1. 1. 0. 0. 0. 0. 0. 0. 1. 1. 0.\n",
            " 0. 1. 0. 1. 0. 1. 0. 1. 1. 1. 0. 0. 0. 1. 0. 1. 1. 1. 0. 0. 1. 0. 1. 0.\n",
            " 1. 0. 1. 0. 0. 0. 1. 1. 1. 1. 0. 1. 0. 0. 1. 0. 0. 0. 1. 1. 1. 1. 0. 1.\n",
            " 1. 0. 1. 1. 1. 1. 1. 1. 0. 1. 0. 1. 1. 0. 0. 1.]\n"
          ]
        },
        {
          "output_type": "display_data",
          "data": {
            "image/png": "[encoded data removed]",
            "text/plain": [
              "<Figure size 1080x1080 with 1 Axes>"
            ]
          },
          "metadata": {
            "needs_background": "light"
          }
        }
      ]
    },
    {
      "cell_type": "code",
      "source": [
        "import matplotlib.pyplot as plt\n",
        "import random\n",
        "Rule137 = Rule({ #10001001\n",
        "    (0,0,0): 1, \n",
        "    (0,0,1): 0,\n",
        "    (0,1,0): 0,\n",
        "    (0,1,1): 1,\n",
        "    (1,0,0): 0,\n",
        "    (1,0,1): 0,\n",
        "    (1,1,0): 0,\n",
        "    (1,1,1): 1,\n",
        "})\n",
        "size = 256\n",
        "center = size//2\n",
        "\n",
        "\n",
        "seed = State(size)\n",
        "for i in range(1, 230):\n",
        "  r = random.randint(1, 255)\n",
        "  seed[r] = 1\n",
        "print(seed)\n",
        "ca = CellularAutomaton(seed, Rule137);\n",
        "ca.evolve(size//2)\n",
        "\n",
        "fig = plt.figure(figsize=(15, 15), frameon=False)\n",
        "axs = fig.add_subplot('111')\n",
        "\n",
        "axs.imshow(ca.history, cmap='viridis', interpolation='nearest')\n",
        "axs.axis('off')\n",
        "plt.draw()\n",
        "plt.tight_layout()\n",
        "plt.show()"
      ],
      "metadata": {
        "colab": {
          "base_uri": "https://localhost:8080/",
          "height": 750
        },
        "id": "t113sT4kCw9H",
        "outputId": "9cc430d2-efa8-46c0-bc3d-48f49fdab05d"
      },
      "execution_count": null,
      "outputs": [
        {
          "output_type": "stream",
          "name": "stdout",
          "text": [
            "[0. 1. 1. 0. 0. 1. 0. 1. 0. 1. 1. 0. 1. 0. 1. 0. 1. 0. 1. 1. 1. 1. 1. 1.\n",
            " 1. 1. 0. 1. 1. 1. 1. 0. 1. 1. 1. 1. 1. 1. 0. 0. 0. 1. 1. 1. 1. 0. 0. 0.\n",
            " 1. 0. 1. 1. 0. 1. 1. 0. 1. 1. 0. 1. 0. 1. 1. 1. 1. 1. 1. 0. 0. 1. 0. 0.\n",
            " 1. 0. 1. 0. 1. 1. 1. 1. 1. 1. 0. 1. 0. 0. 1. 1. 0. 0. 1. 0. 1. 1. 1. 0.\n",
            " 1. 1. 0. 1. 1. 0. 0. 1. 0. 0. 0. 0. 0. 0. 0. 1. 1. 1. 0. 1. 1. 0. 1. 1.\n",
            " 1. 1. 1. 1. 0. 1. 1. 1. 1. 0. 1. 1. 0. 0. 1. 1. 0. 1. 1. 1. 1. 0. 1. 1.\n",
            " 1. 1. 0. 1. 1. 1. 1. 1. 1. 1. 1. 1. 1. 1. 1. 0. 0. 1. 0. 0. 1. 1. 1. 0.\n",
            " 1. 1. 0. 1. 1. 0. 0. 0. 0. 0. 1. 1. 0. 0. 1. 0. 1. 0. 1. 0. 1. 1. 0. 1.\n",
            " 0. 1. 1. 1. 1. 0. 0. 1. 0. 1. 0. 1. 0. 0. 0. 0. 0. 0. 0. 1. 1. 1. 0. 1.\n",
            " 0. 1. 0. 1. 1. 0. 0. 1. 0. 1. 1. 0. 1. 1. 1. 0. 1. 0. 1. 1. 0. 1. 1. 1.\n",
            " 0. 1. 0. 1. 1. 1. 0. 1. 0. 1. 0. 1. 1. 0. 0. 0.]\n"
          ]
        },
        {
          "output_type": "display_data",
          "data": {
            "image/png": "[encoded data removed]",
            "text/plain": [
              "<Figure size 1080x1080 with 1 Axes>"
            ]
          },
          "metadata": {
            "needs_background": "light"
          }
        }
      ]
    },
    {
      "cell_type": "code",
      "source": [
        "def eca(cells, rule):\n",
        "    lencells = len(cells)\n",
        "    c = \"0\" + cells + \"0\"    # Zero pad the ends\n",
        "    rulebits = '{0:08b}'.format(rule)\n",
        "    neighbours2next = {'{0:03b}'.format(n):rulebits[::-1][n] for n in range(8)}\n",
        "    yield c[1:-1]\n",
        "    while True:\n",
        "        c = ''.join(['0',\n",
        "                     ''.join(neighbours2next[c[i-1:i+2]]\n",
        "                             for i in range(1,lencells+1)),\n",
        "                     '0'])\n",
        "        yield c[1:-1]\n",
        " \n",
        "if __name__ == '__main__':\n",
        "    lines, start, rules = 100, '11111111011111111011', (4, 90, 137)\n",
        "    zipped = [range(lines)] + [eca(start, rule) for rule in rules]\n",
        "    print('\\n   Rules: %r' % (rules,))\n",
        "    for data in zip(*zipped):\n",
        "        i = data[0]\n",
        "        cells = data[1:]\n",
        "        print('%2i: %s' % (i, '    '.join(cells).replace('0', '.').replace('1', '@')))"
      ],
      "metadata": {
        "colab": {
          "base_uri": "https://localhost:8080/"
        },
        "id": "Pw3iuHCovout",
        "outputId": "aa0dcc86-28e2-42bc-8800-eba7041abf83"
      },
      "execution_count": null,
      "outputs": [
        {
          "output_type": "stream",
          "name": "stdout",
          "text": [
            "\n",
            "   Rules: (4, 90, 137)\n",
            " 0: @@@@@@@@.@@@@@@@@.@@    @@@@@@@@.@@@@@@@@.@@    @@@@@@@@.@@@@@@@@.@@\n",
            " 1: ....................    @......@.@......@.@@    @@@@@@@..@@@@@@@..@.\n",
            " 2: ....................    .@....@...@....@..@@    @@@@@@...@@@@@@.....\n",
            " 3: ....................    @.@..@.@.@.@..@.@@@@    @@@@@..@.@@@@@..@@@@\n",
            " 4: ....................    ...@@.......@@..@..@    @@@@.....@@@@...@@@.\n",
            " 5: ....................    ..@@@@.....@@@@@.@@.    @@@..@@@.@@@..@.@@..\n",
            " 6: ....................    .@@..@@...@@...@.@@@    @@...@@..@@.....@..@\n",
            " 7: ....................    @@@@@@@@.@@@@.@..@.@    @..@.@...@..@@@.....\n",
            " 8: ....................    @......@.@..@..@@...    .......@....@@..@@@@\n",
            " 9: ....................    .@....@...@@.@@@@@..    @@@@@@...@@.@...@@@.\n",
            "10: ....................    @.@..@.@.@@@.@...@@.    @@@@@..@.@....@.@@..\n",
            "11: ....................    ...@@....@.@..@.@@@@    @@@@.......@@...@..@\n",
            "12: ....................    ..@@@@..@...@@..@..@    @@@..@@@@@.@..@.....\n",
            "13: ....................    .@@..@@@.@.@@@@@.@@.    @@...@@@@.......@@@@\n",
            "14: ....................    @@@@@@.@...@...@.@@@    @..@.@@@..@@@@@.@@@.\n",
            "15: ....................    @....@..@.@.@.@..@.@    .....@@...@@@@..@@..\n",
            "16: ....................    .@..@.@@.......@@...    @@@@.@..@.@@@...@..@\n",
            "17: ....................    @.@@..@@@.....@@@@..    @@@.......@@..@.....\n",
            "18: ....................    ..@@@@@.@@...@@..@@.    @@..@@@@@.@.....@@@@\n",
            "19: ....................    .@@...@.@@@.@@@@@@@@    @...@@@@....@@@.@@@.\n",
            "20: ....................    @@@@.@..@.@.@......@    ..@.@@@..@@.@@..@@..\n",
            "21: ....................    @..@..@@.....@....@.    @...@@...@..@...@..@\n",
            "22: ....................    .@@.@@@@@...@.@..@.@    ..@.@..@......@.....\n",
            "23: ....................    @@@.@...@@.@...@@...    @........@@@@...@@@@\n",
            "24: ....................    @.@..@.@@@..@.@@@@..    ..@@@@@@.@@@..@.@@@.\n",
            "25: ....................    ...@@..@.@@@..@..@@.    @.@@@@@..@@.....@@..\n",
            "26: ....................    ..@@@@@..@.@@@.@@@@@    ..@@@@...@..@@@.@..@\n",
            "27: ....................    .@@...@@@..@.@.@...@    @.@@@..@....@@......\n",
            "28: ....................    @@@@.@@.@@@.....@.@.    ..@@.....@@.@..@@@@@\n",
            "29: ....................    @..@.@@.@.@@...@...@    @.@..@@@.@.....@@@@.\n",
            "30: ....................    .@@..@@...@@@.@.@.@.    .....@@....@@@.@@@..\n",
            "31: ....................    @@@@@@@@.@@.@......@    @@@@.@..@@.@@..@@..@\n",
            "32: ....................    @......@.@@..@....@.    @@@.....@..@...@....\n",
            "33: ....................    .@....@..@@@@.@..@.@    @@..@@@......@...@@@\n",
            "34: ....................    @.@..@.@@@..@..@@...    @...@@..@@@@...@.@@.\n",
            "35: ....................    ...@@..@.@@@.@@@@@..    ..@.@...@@@..@...@..\n",
            "36: ....................    ..@@@@@..@.@.@...@@.    @.....@.@@.....@...@\n",
            "37: ....................    .@@...@@@.....@.@@@@    ..@@@...@..@@@...@..\n",
            "38: ....................    @@@@.@@.@@...@..@..@    @.@@..@....@@..@...@\n",
            "39: ....................    @..@.@@.@@@.@.@@.@@.    ..@.....@@.@.....@..\n",
            "40: ....................    .@@..@@.@.@...@@.@@@    @...@@@.@....@@@...@\n",
            "41: ....................    @@@@@@@....@.@@@.@.@    ..@.@@....@@.@@..@..\n",
            "42: ....................    @.....@@..@..@.@....    @...@..@@.@..@.....@\n",
            "43: ....................    .@...@@@@@.@@...@...    ..@....@.......@@@..\n",
            "44: ....................    @.@.@@...@.@@@.@.@..    @...@@...@@@@@.@@..@\n",
            "45: ....................    ....@@@.@..@.@....@.    ..@.@..@.@@@@..@....\n",
            "46: ....................    ...@@.@..@@...@..@.@    @........@@@.....@@@\n",
            "47: ....................    ..@@@..@@@@@.@.@@...    ..@@@@@@.@@..@@@.@@.\n",
            "48: ....................    .@@.@@@@...@...@@@..    @.@@@@@..@...@@..@..\n",
            "49: ....................    @@@.@..@@.@.@.@@.@@.    ..@@@@.....@.@.....@\n",
            "50: ....................    @.@..@@@@.....@@.@@@    @.@@@..@@@.....@@@..\n",
            "51: ....................    ...@@@..@@...@@@.@.@    ..@@...@@..@@@.@@..@\n",
            "52: ....................    ..@@.@@@@@@.@@.@....    @.@..@.@...@@..@....\n",
            "53: ....................    .@@@.@....@.@@..@...    .........@.@.....@@@\n",
            "54: ....................    @@.@..@..@..@@@@.@..    @@@@@@@@.....@@@.@@.\n",
            "55: ....................    @@..@@.@@.@@@..@..@.    @@@@@@@..@@@.@@..@..\n",
            "56: ....................    @@@@@@.@@.@.@@@.@@.@    @@@@@@...@@..@.....@\n",
            "57: ....................    @....@.@@...@.@.@@..    @@@@@..@.@.....@@@..\n",
            "58: ....................    .@..@..@@@.@....@@@.    @@@@.......@@@.@@..@\n",
            "59: ....................    @.@@.@@@.@..@..@@.@@    @@@..@@@@@.@@..@....\n",
            "60: ....................    ..@@.@.@..@@.@@@@.@@    @@...@@@@..@.....@@@\n",
            "61: ....................    .@@@....@@@@.@..@.@@    @..@.@@@.....@@@.@@.\n",
            "62: ....................    @@.@@..@@..@..@@..@@    .....@@..@@@.@@..@..\n",
            "63: ....................    @@.@@@@@@@@.@@@@@@@@    @@@@.@...@@..@.....@\n",
            "64: ....................    @@.@......@.@......@    @@@....@.@.....@@@..\n",
            "65: ....................    @@..@....@...@....@.    @@..@@.....@@@.@@..@\n",
            "66: ....................    @@@@.@..@.@.@.@..@.@    @...@..@@@.@@..@....\n",
            "67: ....................    @..@..@@.......@@...    ..@....@@..@.....@@@\n",
            "68: ....................    .@@.@@@@@.....@@@@..    @...@@.@.....@@@.@@.\n",
            "69: ....................    @@@.@...@@...@@..@@.    ..@.@....@@@.@@..@..\n",
            "70: ....................    @.@..@.@@@@.@@@@@@@@    @.....@@.@@..@.....@\n",
            "71: ....................    ...@@..@..@.@......@    ..@@@.@..@.....@@@..\n",
            "72: ....................    ..@@@@@.@@...@....@.    @.@@.......@@@.@@..@\n",
            "73: ....................    .@@...@.@@@.@.@..@.@    ..@..@@@@@.@@..@....\n",
            "74: ....................    @@@@.@..@.@....@@...    @....@@@@..@.....@@@\n",
            "75: ....................    @..@..@@...@..@@@@..    ..@@.@@@.....@@@.@@.\n",
            "76: ....................    .@@.@@@@@.@.@@@..@@.    @.@..@@..@@@.@@..@..\n",
            "77: ....................    @@@.@...@...@.@@@@@@    .....@...@@..@.....@\n",
            "78: ....................    @.@..@.@.@.@..@....@    @@@@...@.@.....@@@..\n",
            "79: ....................    ...@@.......@@.@..@.    @@@..@.....@@@.@@..@\n",
            "80: ....................    ..@@@@.....@@@..@@.@    @@.....@@@.@@..@....\n",
            "81: ....................    .@@..@@...@@.@@@@@..    @..@@@.@@..@.....@@@\n",
            "82: ....................    @@@@@@@@.@@@.@...@@.    ...@@..@.....@@@.@@.\n",
            "83: ....................    @......@.@.@..@.@@@@    @@.@.....@@@.@@..@..\n",
            "84: ....................    .@....@.....@@..@..@    @....@@@.@@..@.....@\n",
            "85: ....................    @.@..@.@...@@@@@.@@.    ..@@.@@..@.....@@@..\n",
            "86: ....................    ...@@...@.@@...@.@@@    @.@..@.....@@@.@@..@\n",
            "87: ....................    ..@@@@.@..@@@.@..@.@    .......@@@.@@..@....\n",
            "88: ....................    .@@..@..@@@.@..@@...    @@@@@@.@@..@.....@@@\n",
            "89: ....................    @@@@@.@@@.@..@@@@@..    @@@@@..@.....@@@.@@.\n",
            "90: ....................    @...@.@.@..@@@...@@.    @@@@.....@@@.@@..@..\n",
            "91: ....................    .@.@.....@@@.@@.@@@@    @@@..@@@.@@..@.....@\n",
            "92: ....................    @...@...@@.@.@@.@..@    @@...@@..@.....@@@..\n",
            "93: ....................    .@.@.@.@@@...@@..@@.    @..@.@.....@@@.@@..@\n",
            "94: ....................    @......@.@@.@@@@@@@@    .......@@@.@@..@....\n",
            "95: ....................    .@....@..@@.@......@    @@@@@@.@@..@.....@@@\n",
            "96: ....................    @.@..@.@@@@..@....@.    @@@@@..@.....@@@.@@.\n",
            "97: ....................    ...@@..@..@@@.@..@.@    @@@@.....@@@.@@..@..\n",
            "98: ....................    ..@@@@@.@@@.@..@@...    @@@..@@@.@@..@.....@\n",
            "99: ....................    .@@...@.@.@..@@@@@..    @@...@@..@.....@@@..\n"
          ]
        }
      ]
    },
    {
      "cell_type": "markdown",
      "source": [
        "# Exercise 4.2 – Design (invent!) your own cellular automaton"
      ],
      "metadata": {
        "id": "J5kk_vc-0c1N"
      }
    },
    {
      "cell_type": "code",
      "source": [
        "import matplotlib.pyplot as plt\n",
        "\n",
        "myRule = Rule({ #10010110\n",
        "    (0,0,0): 0, \n",
        "    (0,0,1): 1,\n",
        "    (0,1,0): 1,\n",
        "    (0,1,1): 0,\n",
        "    (1,0,0): 1,\n",
        "    (1,0,1): 0,\n",
        "    (1,1,0): 0,\n",
        "    (1,1,1): 1,\n",
        "})\n",
        "size = 401\n",
        "center = size//2\n",
        "\n",
        "seed = State(size)\n",
        "seed[size//4] = 1\n",
        "seed[3*size//4] = 1\n",
        "ca = CellularAutomaton(seed, myRule);\n",
        "ca.evolve(size//2)\n",
        "\n",
        "fig = plt.figure(figsize=(30, 15), frameon=False)\n",
        "axs = fig.add_subplot('111')\n",
        "\n",
        "axs.imshow(ca.history, cmap='viridis', interpolation='nearest')\n",
        "axs.axis('off')\n",
        "plt.draw()\n",
        "plt.tight_layout()\n",
        "plt.show()"
      ],
      "metadata": {
        "id": "PJLoqdGPwryM",
        "colab": {
          "base_uri": "https://localhost:8080/",
          "height": 984
        },
        "outputId": "b4bbdcc5-cc6a-4df9-8b69-71d41f5115f0"
      },
      "execution_count": null,
      "outputs": [
        {
          "output_type": "display_data",
          "data": {
            "image/png": "[encoded data removed]",
            "text/plain": [
              "<Figure size 2160x1080 with 1 Axes>"
            ]
          },
          "metadata": {
            "needs_background": "light"
          }
        }
      ]
    }
  ]
}